{
 "cells": [
  {
   "cell_type": "code",
   "execution_count": 69,
   "metadata": {
    "collapsed": true
   },
   "outputs": [],
   "source": [
    "import pandas as pd\n",
    "import numpy as np\n",
    "from collections import defaultdict"
   ]
  },
  {
   "cell_type": "code",
   "execution_count": 168,
   "metadata": {},
   "outputs": [],
   "source": [
    "def ngram_probs(filename='raw_sentences.txt'):\n",
    "    raw_word = pd.read_csv(\"raw_sentences.txt\", sep='\\t',header=None)\n",
    "    raw_word = raw_word[0]\n",
    "    word_list = []\n",
    "    for i in range(len(raw_word)):\n",
    "        raw_word[i] = raw_word[i].lower()\n",
    "        data = raw_word[i].split(\" \")\n",
    "        for j in data:\n",
    "            if j == \"\" or j==\" \":\n",
    "                data.remove(j)\n",
    "        word_list += [data]\n",
    "\n",
    "    bi_count = {}\n",
    "    context_count = {}\n",
    "    tri_count = {}\n",
    "    for i in range(len(word_list)):\n",
    "        for j in range(1,len(word_list[i])):\n",
    "            if (word_list[i][j-1], word_list[i][j]) in bi_count.keys():\n",
    "                bi_count[(word_list[i][j-1], word_list[i][j])] += 1\n",
    "            else:\n",
    "                bi_count[(word_list[i][j-1], word_list[i][j])] = 1\n",
    "            if word_list[i][j-1] in context_count.keys():\n",
    "                context_count[word_list[i][j-1]] += 1\n",
    "            else:\n",
    "                context_count[word_list[i][j-1]] = 1\n",
    "        if word_list[i][len(word_list[i])-1] in context_count.keys():\n",
    "            context_count[word_list[i][len(word_list[i])-1]] += 1\n",
    "        else:\n",
    "            context_count[word_list[i][len(word_list[i])-1]] = 1\n",
    "        for j in range(2,len(word_list[i])):\n",
    "            if (word_list[i][j-2], word_list[i][j-1], word_list[i][j]) in tri_count:\n",
    "                tri_count[(word_list[i][j-2], word_list[i][j-1], word_list[i][j])] += 1\n",
    "            else:\n",
    "                tri_count[(word_list[i][j-2], word_list[i][j-1], word_list[i][j])] = 1\n",
    "        \n",
    "    bigram_probs = {}\n",
    "    trigram_probs = {}\n",
    "    for fir, sec in bi_count:\n",
    "        bigram_probs[(fir, sec)] = bi_count[(fir, sec)]/ context_count[fir]\n",
    "    for fir, sec, thir in tri_count:\n",
    "        trigram_probs[(fir, sec, thir)] = tri_count[(fir, sec, thir)]/ (context_count[fir]*bigram_probs[(fir, sec)])\n",
    "    return bigram_probs, trigram_probs"
   ]
  },
  {
   "cell_type": "code",
   "execution_count": 169,
   "metadata": {},
   "outputs": [
    {
     "name": "stdout",
     "output_type": "stream",
     "text": [
      "0.19969401723166116\n"
     ]
    }
   ],
   "source": [
    "cnt2, cnt3 = ngram_probs()\n",
    "print(cnt2[('we', 'are')])"
   ]
  },
  {
   "cell_type": "code",
   "execution_count": 170,
   "metadata": {},
   "outputs": [
    {
     "data": {
      "text/plain": [
       "0.19969401723166116"
      ]
     },
     "execution_count": 170,
     "metadata": {},
     "output_type": "execute_result"
    }
   ],
   "source": [
    "cnt2[(\"we\",\"are\")]"
   ]
  },
  {
   "cell_type": "code",
   "execution_count": 160,
   "metadata": {},
   "outputs": [
    {
     "data": {
      "text/plain": [
       "True"
      ]
     },
     "execution_count": 160,
     "metadata": {},
     "output_type": "execute_result"
    }
   ],
   "source": [
    "(\"we\",\"are\") in cnt2.keys()"
   ]
  },
  {
   "cell_type": "code",
   "execution_count": 174,
   "metadata": {},
   "outputs": [
    {
     "data": {
      "text/plain": [
       "False"
      ]
     },
     "execution_count": 174,
     "metadata": {},
     "output_type": "execute_result"
    }
   ],
   "source": [
    "('we', 'are',\"times\") in cnt3.keys()"
   ]
  },
  {
   "cell_type": "code",
   "execution_count": 179,
   "metadata": {
    "collapsed": true
   },
   "outputs": [],
   "source": [
    "def prob3(bigram, cnt2=cnt2, cnt3=cnt3):\n",
    "    prob = {}\n",
    "    for (fir, sec, thir) in cnt3.keys():\n",
    "        if (fir, sec)== bigram and (fir, sec) in cnt2.keys():\n",
    "            prob[thir] = cnt3[(fir, sec, thir)]/cnt2[(fir, sec)]\n",
    "    return prob"
   ]
  },
  {
   "cell_type": "code",
   "execution_count": 180,
   "metadata": {
    "scrolled": true
   },
   "outputs": [
    {
     "name": "stdout",
     "output_type": "stream",
     "text": [
      "0.022211400884495316\n"
     ]
    }
   ],
   "source": [
    "p = prob3(('we', 'are'))\n",
    "print(p['family'])"
   ]
  },
  {
   "cell_type": "code",
   "execution_count": 181,
   "metadata": {
    "scrolled": true
   },
   "outputs": [
    {
     "data": {
      "text/plain": [
       "{',': 0.06259576612903227,\n",
       " '--': 0.002019218262226847,\n",
       " '.': 0.39374756113423515,\n",
       " '?': 0.0343267104578564,\n",
       " 'a': 0.1797104253381894,\n",
       " 'about': 0.058557329604578566,\n",
       " 'after': 0.02019218262226847,\n",
       " 'against': 0.02019218262226847,\n",
       " 'all': 0.24230619146722163,\n",
       " 'among': 0.002019218262226847,\n",
       " 'an': 0.004038436524453694,\n",
       " 'and': 0.016153746097814777,\n",
       " 'another': 0.002019218262226847,\n",
       " 'around': 0.002019218262226847,\n",
       " 'as': 0.018172964360041625,\n",
       " 'at': 0.10096091311134235,\n",
       " 'back': 0.06057654786680541,\n",
       " 'because': 0.002019218262226847,\n",
       " 'before': 0.002019218262226847,\n",
       " 'being': 0.008076873048907389,\n",
       " 'best': 0.004038436524453694,\n",
       " 'big': 0.004038436524453694,\n",
       " 'both': 0.024230619146722164,\n",
       " 'business': 0.006057654786680541,\n",
       " 'but': 0.002019218262226847,\n",
       " 'called': 0.004038436524453694,\n",
       " 'city': 0.004038436524453694,\n",
       " 'country': 0.002019218262226847,\n",
       " 'day': 0.002019218262226847,\n",
       " 'down': 0.028269055671175856,\n",
       " 'each': 0.002019218262226847,\n",
       " 'even': 0.018172964360041625,\n",
       " 'family': 0.022211400884495316,\n",
       " 'few': 0.002019218262226847,\n",
       " 'for': 0.012115309573361082,\n",
       " 'from': 0.026249837408949015,\n",
       " 'going': 1.1024931711758585,\n",
       " 'good': 0.04442280176899063,\n",
       " 'here': 0.19990260796045783,\n",
       " 'high': 0.002019218262226847,\n",
       " 'him': 0.006057654786680541,\n",
       " 'his': 0.002019218262226847,\n",
       " 'home': 0.006057654786680541,\n",
       " 'in': 0.23826775494276795,\n",
       " 'into': 0.002019218262226847,\n",
       " 'is': 0.008076873048907389,\n",
       " 'it': 0.004038436524453694,\n",
       " 'just': 0.12519153225806454,\n",
       " 'left': 0.008076873048907389,\n",
       " 'like': 0.04442280176899063,\n",
       " 'made': 0.002019218262226847,\n",
       " 'many': 0.002019218262226847,\n",
       " 'members': 0.002019218262226847,\n",
       " 'more': 0.010096091311134234,\n",
       " 'much': 0.002019218262226847,\n",
       " 'music': 0.002019218262226847,\n",
       " 'never': 0.010096091311134234,\n",
       " 'new': 0.016153746097814777,\n",
       " 'night': 0.002019218262226847,\n",
       " 'no': 0.004038436524453694,\n",
       " 'not': 0.658265153485952,\n",
       " 'now': 0.03836514698231009,\n",
       " 'nt': 0.03836514698231009,\n",
       " 'of': 0.002019218262226847,\n",
       " 'off': 0.006057654786680541,\n",
       " 'old': 0.014134527835587928,\n",
       " 'on': 0.06259576612903227,\n",
       " 'one': 0.05249967481789803,\n",
       " 'only': 0.002019218262226847,\n",
       " 'or': 0.002019218262226847,\n",
       " 'our': 0.004038436524453694,\n",
       " 'out': 0.06461498439125911,\n",
       " 'over': 0.018172964360041625,\n",
       " 'part': 0.03634592872008325,\n",
       " 'people': 0.010096091311134234,\n",
       " 'police': 0.002019218262226847,\n",
       " 'right': 0.0686534209157128,\n",
       " 'so': 0.010096091311134234,\n",
       " 'some': 0.002019218262226847,\n",
       " 'still': 0.1595182427159209,\n",
       " 'street': 0.002019218262226847,\n",
       " 'the': 0.12922996878251822,\n",
       " 'their': 0.006057654786680541,\n",
       " 'them': 0.004038436524453694,\n",
       " 'then': 0.002019218262226847,\n",
       " 'there': 0.03836514698231009,\n",
       " 'these': 0.002019218262226847,\n",
       " 'this': 0.002019218262226847,\n",
       " 'those': 0.004038436524453694,\n",
       " 'three': 0.006057654786680541,\n",
       " 'through': 0.004038436524453694,\n",
       " 'to': 0.004038436524453694,\n",
       " 'today': 0.032307492195629554,\n",
       " 'too': 0.026249837408949015,\n",
       " 'two': 0.002019218262226847,\n",
       " 'under': 0.004038436524453694,\n",
       " 'united': 0.004038436524453694,\n",
       " 'up': 0.04240358350676379,\n",
       " 'used': 0.058557329604578566,\n",
       " 'very': 0.026249837408949015,\n",
       " 'way': 0.008076873048907389,\n",
       " 'well': 0.012115309573361082,\n",
       " 'what': 0.022211400884495316,\n",
       " 'where': 0.02019218262226847,\n",
       " 'who': 0.006057654786680541,\n",
       " 'with': 0.030288273933402703,\n",
       " 'women': 0.008076873048907389,\n",
       " 'you': 0.002019218262226847,\n",
       " 'your': 0.006057654786680541}"
      ]
     },
     "execution_count": 181,
     "metadata": {},
     "output_type": "execute_result"
    }
   ],
   "source": [
    "p"
   ]
  },
  {
   "cell_type": "code",
   "execution_count": 185,
   "metadata": {},
   "outputs": [],
   "source": [
    "def predict_max(starting, cnt2=cnt2, cnt3=cnt3):\n",
    "    list_of_words = list(starting)\n",
    "    while list_of_words[-1] != \".\" and len(list_of_words) < 15:\n",
    "        prob = prob3((list_of_words[-2],list_of_words[-1]), cnt2, cnt3)\n",
    "        Maxword = \"\"\n",
    "        Maxprob = 0 \n",
    "        for word in prob.keys():\n",
    "            if Maxword == \"\":\n",
    "                Maxprob = prob[word]\n",
    "                Maxword = word\n",
    "                #print(word, prob[word], Maxprob)\n",
    "            if prob[word] > Maxprob:\n",
    "                #print(word, prob[word], Maxprob)\n",
    "                Maxprob = prob[word]\n",
    "                Maxword = word\n",
    "        list_of_words += [Maxword]\n",
    "    \n",
    "    return list_of_words"
   ]
  },
  {
   "cell_type": "code",
   "execution_count": 186,
   "metadata": {},
   "outputs": [
    {
     "name": "stdout",
     "output_type": "stream",
     "text": [
      "we are going to do it .\n"
     ]
    }
   ],
   "source": [
    "sent = predict_max(('we', 'are'))\n",
    "assert sent[-1] == '.' or len(sent) <= 15\n",
    "print(' '.join(sent))"
   ]
  },
  {
   "cell_type": "code",
   "execution_count": null,
   "metadata": {
    "collapsed": true
   },
   "outputs": [],
   "source": [
    "def BFS(setence, word, sent_length=10, cnt2, cnt3, prob):\n",
    "    if len(setence) ==10 and setence[-1] == \".\": return setence, prob\n",
    "    "
   ]
  },
  {
   "cell_type": "code",
   "execution_count": null,
   "metadata": {
    "collapsed": true
   },
   "outputs": [],
   "source": []
  },
  {
   "cell_type": "code",
   "execution_count": null,
   "metadata": {
    "collapsed": true
   },
   "outputs": [],
   "source": [
    "def predict_beam(bigram, beam_size=4, sent_length=10, cnt2=cnt2, cnt3=cnt3):\n",
    "    prob = prob3(bigram, cnt2, cnt3)\n",
    "    check_word = [\"\" for i in range(beam_size)]\n",
    "    check_prob = [0.0 for i in range(beam_size)]\n",
    "    for word in prob.keys():\n",
    "    for word in prob.keys():\n",
    "        setence, prob = BFS(list(starting), word, sent_length=10, cnt2=cnt2, cnt3=cnt3)\n",
    "        \n",
    "    return list_of_sentence"
   ]
  },
  {
   "cell_type": "code",
   "execution_count": null,
   "metadata": {
    "collapsed": true
   },
   "outputs": [],
   "source": [
    "for sent in predict_beam(('we', 'are')):\n",
    "assert sent[-1] == '.' or len(sent) < 10\n",
    "print(' '.join(sent))"
   ]
  }
 ],
 "metadata": {
  "kernelspec": {
   "display_name": "Python 3",
   "language": "python",
   "name": "python3"
  },
  "language_info": {
   "codemirror_mode": {
    "name": "ipython",
    "version": 3
   },
   "file_extension": ".py",
   "mimetype": "text/x-python",
   "name": "python",
   "nbconvert_exporter": "python",
   "pygments_lexer": "ipython3",
   "version": "3.6.3"
  }
 },
 "nbformat": 4,
 "nbformat_minor": 2
}
